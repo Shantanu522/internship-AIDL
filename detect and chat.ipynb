{
 "cells": [
  {
   "cell_type": "code",
   "execution_count": 1,
   "metadata": {},
   "outputs": [],
   "source": [
    "import speech_recognition as sr\n",
    "import nltk\n",
    "import pyttsx3"
   ]
  },
  {
   "cell_type": "code",
   "execution_count": 2,
   "metadata": {},
   "outputs": [],
   "source": [
    "import pyttsx3\n",
    "tts = pyttsx3.init()\n",
    "tts.setProperty('rate',100)"
   ]
  },
  {
   "cell_type": "code",
   "execution_count": 3,
   "metadata": {},
   "outputs": [],
   "source": [
    "tts.say('Hello! I am speaking for you from your computer')\n",
    "# tts.runAndWait()\n",
    "# tts.stop()"
   ]
  },
  {
   "cell_type": "code",
   "execution_count": null,
   "metadata": {},
   "outputs": [],
   "source": [
    "import warnings; warnings.filterwarnings('ignore')\n",
    "import speech_recognition as sr\n",
    "import webbrowser as web\n",
    "rec = sr.Recognizer()\n",
    "flag = False\n",
    "while True:\n",
    "    with sr.Microphone() as mic:\n",
    "        print('Speak:')\n",
    "        audio = rec.listen(mic,phrase_time_limit=3,timeout=5)\n",
    "        try:\n",
    "            text = rec.recognize_google(audio).lower()\n",
    "            print(text)\n",
    "            if flag == True:\n",
    "                if 'search' in text:\n",
    "                    item = text.split('search')[-1].strip()\n",
    "                    flipkart_url = 'https://flipkart.com/search?q='\n",
    "                    amazon_url = 'https://amazon.in/s?k='\n",
    "                    web.open_new(flipkart_url + item)\n",
    "                    web.open_new_tab(amazon_url + item)                    \n",
    "                flag = False\n",
    "\n",
    "            if 'hey google' in text:\n",
    "                flag = True\n",
    "            elif 'mar ja' in text: \n",
    "                break\n",
    "\n",
    "            # if flag == False:\n",
    "            #     print('You said:',text)\n",
    "            # tts.say(text)\n",
    "            # tts.runAndWait()\n",
    "        except Exception as err:\n",
    "            print(err)"
   ]
  },
  {
   "cell_type": "code",
   "execution_count": 4,
   "metadata": {},
   "outputs": [],
   "source": [
    "from nltk.chat.util import Chat"
   ]
  },
  {
   "cell_type": "code",
   "execution_count": 5,
   "metadata": {},
   "outputs": [],
   "source": [
    "q1 = r'(.*)your name (.*)company(.*)'\n",
    "a1 = ['my name is chatchat','I am chatchat']\n",
    "q2 = r'kya aaj kuch achha hoga'\n",
    "a2 = ['haan','mujhe kya pata','mein kyo batau']\n",
    "qa_pair = [\n",
    "    [q1,a1],\n",
    "    [q2,a2],\n",
    "]\n",
    "cb = Chat(qa_pair)"
   ]
  },
  {
   "cell_type": "code",
   "execution_count": 6,
   "metadata": {},
   "outputs": [
    {
     "name": "stdout",
     "output_type": "stream",
     "text": [
      "None\n"
     ]
    }
   ],
   "source": [
    "ques = input('enter ques:').lower()\n",
    "resp = cb.respond(ques)\n",
    "print(resp)"
   ]
  },
  {
   "cell_type": "code",
   "execution_count": null,
   "metadata": {},
   "outputs": [],
   "source": [
    "from nltk.chat.util import Chat\n",
    "import speech_recognition as sr\n",
    "import pyttsx3\n",
    "\n",
    "q1 = r'(.*)your name (.*)company(.*)'\n",
    "a1 = ['my name is chatchat','I am chatchat']\n",
    "q2 = r'kya aaj kuch achha hoga'\n",
    "a2 = ['haan','mujhe kya pata','mein kyo batau']\n",
    "qa_pair = [\n",
    "    [q1,a1],\n",
    "    [q2,a2],\n",
    "]\n",
    "cb = Chat(qa_pair)\n",
    "tts = pyttsx3.init()\n",
    "rec = sr.Recognizer()\n",
    "while True:\n",
    "    with sr.Microphone() as mic:\n",
    "        print('Speak:')\n",
    "        audio = rec.listen(mic,phrase_time_limit=3,timeout=5)\n",
    "        try:\n",
    "            text = rec.recognize_google(audio).lower()\n",
    "            print(text)\n",
    "            if flag == True:\n",
    "                if 'search' in text:\n",
    "                    item = text.split('search')[-1].strip()\n",
    "                    flipkart_url = 'https://flipkart.com/search?q='\n",
    "                    amazon_url = 'https://amazon.in/s?k='\n",
    "                    web.open_new(flipkart_url + item)\n",
    "                    web.open_new_tab(amazon_url + item)\n",
    "                else:\n",
    "                    resp = cb.respond(text)\n",
    "                    if resp == None:\n",
    "                        tts.say('Sorry, I dont know')\n",
    "                    else:\n",
    "                        tts.say(resp)\n",
    "                    tts.runAndWait()\n",
    "                flag = False\n",
    "            if 'hey google' in text:\n",
    "                flag = True\n",
    "            elif 'mar ja' in text: \n",
    "                break\n",
    "        except Exception as err:\n",
    "            print(err)"
   ]
  }
 ],
 "metadata": {
  "kernelspec": {
   "display_name": "Python 3",
   "language": "python",
   "name": "python3"
  },
  "language_info": {
   "codemirror_mode": {
    "name": "ipython",
    "version": 3
   },
   "file_extension": ".py",
   "mimetype": "text/x-python",
   "name": "python",
   "nbconvert_exporter": "python",
   "pygments_lexer": "ipython3",
   "version": "3.10.11"
  },
  "orig_nbformat": 4
 },
 "nbformat": 4,
 "nbformat_minor": 2
}
