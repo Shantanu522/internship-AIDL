{
 "cells": [
  {
   "cell_type": "code",
   "execution_count": 1,
   "metadata": {},
   "outputs": [],
   "source": [
    "import cv2\n",
    "import numpy as np\n",
    "import skimage as ski\n",
    "\n",
    "vid = cv2.VideoCapture(0)\n",
    "while True:\n",
    "    ack, img = vid.read()\n",
    "    if ack:\n",
    "        th,red_bw=cv2.threshold(cv2.subtract(img[:,:,-1],cv2.cvtColor(img,cv2.COLOR_BGR2GRAY)),50,255,cv2.THRESH_BINARY)\n",
    "        strel=cv2.getStructuringElement(cv2.MORPH_RECT,(20,20))\n",
    "        red_bw=cv2.morphologyEx(red_bw,cv2.MORPH_CLOSE,strel,iterations=1)\n",
    "        red_bw = ski.morphology.remove_small_objects(red_bw.astype(bool),300).astype('uint8')*255\n",
    "        red_bw = ski.morphology.remove_small_holes(red_bw.astype(bool),300).astype('uint8')*255\n",
    "        rps=ski.measure.regionprops(ski.measure.label(red_bw.astype(bool)))\n",
    "        count=len(rps)\n",
    "        img_copy=img.copy()\n",
    "        cv2.putText(img_copy,str(count),(150,150),cv2.FONT_HERSHEY_PLAIN,10,(255,0,0),10)\n",
    "        for rp in rps:\n",
    "            y1,x1,y2,x2=rp.bbox\n",
    "            cv2.rectangle(img_copy,(x1,y1),(x2,y2),(255,0,0),thickness=5)\n",
    "        cv2.imshow('Preview', img_copy)\n",
    "        key = cv2.waitKey(1)             \n",
    "        if key == ord('x'):              \n",
    "            break\n",
    "\n",
    "cv2.destroyAllWindows()\n",
    "vid.release() "
   ]
  },
  {
   "cell_type": "code",
   "execution_count": 6,
   "metadata": {},
   "outputs": [],
   "source": [
    "# face recognition viola-jones algo (haarcascade feature)\n",
    "import cv2\n",
    "fd = cv2.CascadeClassifier(cv2.data.haarcascades + 'haarcascade_frontalface_default.xml')\n",
    "vid = cv2.VideoCapture(0)\n",
    "while True:\n",
    "    ack, img = vid.read()\n",
    "    if ack:\n",
    "        faces=fd.detectMultiScale(img)\n",
    "        \n",
    "        for x,y,w,h in faces:\n",
    "            cv2.rectangle(img,(x,y),(x+w,y+h),(255,255,255),10) \n",
    "        \n",
    "        cv2.imshow('Preview', img)\n",
    "        key = cv2.waitKey(1)             \n",
    "        if key == ord('x'):              \n",
    "            break\n",
    "\n",
    "cv2.destroyAllWindows()\n",
    "vid.release()"
   ]
  },
  {
   "cell_type": "code",
   "execution_count": 14,
   "metadata": {},
   "outputs": [],
   "source": [
    "# face detection and save to computer\n",
    "import cv2\n",
    "fd = cv2.CascadeClassifier(cv2.data.haarcascades + 'haarcascade_frontalface_default.xml')\n",
    "vid = cv2.VideoCapture(0)\n",
    "counter=0\n",
    "while True:\n",
    "    ack, img = vid.read()\n",
    "    if ack:\n",
    "        faces=fd.detectMultiScale(img)\n",
    "        if len(faces)==1:\n",
    "            counter += 1\n",
    "            for x,y,w,h in faces:\n",
    "              cv2.rectangle(img,(x,y),(x+w,y+h),(255,255,255),10) \n",
    "        face_img=img[y:y+h,x:x+w,:].copy()\n",
    "        cv2.imwrite(r'faces/myself_{0}.png'.format(counter),face_img)   \n",
    "        \n",
    "        cv2.imshow('Preview', img)\n",
    "        key = cv2.waitKey(1)             \n",
    "        if key == ord('x'):              \n",
    "            break\n",
    "\n",
    "cv2.destroyAllWindows()\n",
    "vid.release()"
   ]
  }
 ],
 "metadata": {
  "kernelspec": {
   "display_name": "Python 3",
   "language": "python",
   "name": "python3"
  },
  "language_info": {
   "codemirror_mode": {
    "name": "ipython",
    "version": 3
   },
   "file_extension": ".py",
   "mimetype": "text/x-python",
   "name": "python",
   "nbconvert_exporter": "python",
   "pygments_lexer": "ipython3",
   "version": "3.10.11"
  },
  "orig_nbformat": 4
 },
 "nbformat": 4,
 "nbformat_minor": 2
}
